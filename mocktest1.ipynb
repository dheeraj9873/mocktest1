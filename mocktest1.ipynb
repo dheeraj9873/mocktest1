{
 "cells": [
  {
   "cell_type": "code",
   "execution_count": 2,
   "id": "e3e63230-bb30-4816-916a-b036534e8860",
   "metadata": {},
   "outputs": [],
   "source": [
    "# Q1 move zeroes"
   ]
  },
  {
   "cell_type": "code",
   "execution_count": 3,
   "id": "48a3e803-4dc4-4a5a-84ed-b841ff38538b",
   "metadata": {},
   "outputs": [],
   "source": [
    "class Solution:\n",
    "    def moveZeroes(self, nums: list[int]) -> None:\n",
    "        \"\"\"\n",
    "        Do not return anything, modify nums in-place instead.\n",
    "        \"\"\"\n",
    "        for i in range(len(nums)):\n",
    "            if(nums[i]==0):\n",
    "                nums.remove(nums[i])\n",
    "                nums.append(0)\n",
    "            else:\n",
    "                continue"
   ]
  },
  {
   "cell_type": "code",
   "execution_count": null,
   "id": "0b90128e-9724-4e94-a278-e8bc0774fddd",
   "metadata": {},
   "outputs": [],
   "source": []
  },
  {
   "cell_type": "code",
   "execution_count": null,
   "id": "033c7383-bbd0-4b0d-9f54-0f1093531a6d",
   "metadata": {},
   "outputs": [],
   "source": []
  },
  {
   "cell_type": "code",
   "execution_count": null,
   "id": "b70228ed-e2b4-4faa-bc3c-702a19075e06",
   "metadata": {},
   "outputs": [],
   "source": []
  }
 ],
 "metadata": {
  "kernelspec": {
   "display_name": "Python 3 (ipykernel)",
   "language": "python",
   "name": "python3"
  },
  "language_info": {
   "codemirror_mode": {
    "name": "ipython",
    "version": 3
   },
   "file_extension": ".py",
   "mimetype": "text/x-python",
   "name": "python",
   "nbconvert_exporter": "python",
   "pygments_lexer": "ipython3",
   "version": "3.10.8"
  }
 },
 "nbformat": 4,
 "nbformat_minor": 5
}
